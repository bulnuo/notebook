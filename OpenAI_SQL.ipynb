{
  "nbformat": 4,
  "nbformat_minor": 0,
  "metadata": {
    "colab": {
      "provenance": [],
      "authorship_tag": "ABX9TyNV6UMbRIHYTPw0R6RGBte9",
      "include_colab_link": true
    },
    "kernelspec": {
      "name": "python3",
      "display_name": "Python 3"
    },
    "language_info": {
      "name": "python"
    }
  },
  "cells": [
    {
      "cell_type": "markdown",
      "metadata": {
        "id": "view-in-github",
        "colab_type": "text"
      },
      "source": [
        "<a href=\"https://colab.research.google.com/github/bulnuo/notebook/blob/main/OpenAI_SQL.ipynb\" target=\"_parent\"><img src=\"https://colab.research.google.com/assets/colab-badge.svg\" alt=\"Open In Colab\"/></a>"
      ]
    },
    {
      "cell_type": "markdown",
      "source": [
        "**Generating SQL Queries with OpenAI GPT-3**\n",
        "\n",
        "---\n",
        "\n",
        "This notebook illustrates one of several usecases for Natural Language Processing (NLP) enabled by OpenAI GPT-3 engine ([here](https://openai.com/api/))  - Generating SQL statements from Text.\n",
        "\n",
        "The NLP engine takes two inputs:\n",
        "1. A model that describes tables of interest\n",
        "2. A high-level sentence referring to the model\n",
        "\n",
        "The output is a SQL query that reflects logic of the sentence.\n",
        "\n",
        "We will use default NuoDB *Hockey* sample database to experiment with the engine.\n",
        "\n",
        "First several sections below set-up the environment. \n",
        "We then describe the *Hockey* model and generate SQL statements. To check the correctness of the statements we run them against an external NuoDB dtatabase.\n",
        "\n",
        "So, let's start....\n",
        "\n"
      ],
      "metadata": {
        "id": "ywWXKgVoxY2b"
      }
    },
    {
      "cell_type": "markdown",
      "source": [
        "**Section 1 - Installation**\n",
        "\n",
        "Next 2 steps install openAI package and import it into the Notebook.\n",
        "\n",
        "First, copy this Notebook into your working space. For that click the blue\"Open in Colab\" button in the top left corner (if you are in GitHub environment)\n",
        "\n",
        "Then follow to the next 2 *Cells* in the Notebook and click the *Play* button in square brackets to execute next steps steps. Wait until fist step completes before executing the second one. Note that the second step does output anything if succeeds."
      ],
      "metadata": {
        "id": "iIYujg6a4BLV"
      }
    },
    {
      "cell_type": "code",
      "source": [
        "!pip install --upgrade openai"
      ],
      "metadata": {
        "id": "hZvpBAMxGS2h"
      },
      "execution_count": null,
      "outputs": []
    },
    {
      "cell_type": "code",
      "execution_count": null,
      "metadata": {
        "id": "OLADfDUTFxtV"
      },
      "outputs": [],
      "source": [
        "import os\n",
        "import openai"
      ]
    },
    {
      "cell_type": "markdown",
      "source": [
        "**Section 2 - Getting a Secret Key**\n",
        "\n",
        "OpenAI is free to users while it is in Beta. But you have to login to get a Secret Key in order to use the service. Follow this link to get the key -  https://beta.openai.com/account/api-keys - it is really easy.\n",
        "\n",
        "Once you have the key, copy it into the value of *secret_key* variable below."
      ],
      "metadata": {
        "id": "u1MWx4Uc5ZgT"
      }
    },
    {
      "cell_type": "code",
      "source": [
        "secret_key =\"paste your secret key here\""
      ],
      "metadata": {
        "id": "8Dim0n1_GgLq"
      },
      "execution_count": null,
      "outputs": []
    },
    {
      "cell_type": "markdown",
      "source": [
        "**Section 3 - Creating a Model**\n",
        "\n",
        "A model is a list of table and column names. \n",
        "It may look like this for the *Hockey* database:"
      ],
      "metadata": {
        "id": "A8EVdROZ647O"
      }
    },
    {
      "cell_type": "code",
      "source": [
        "model = [\"Players(playerID, firstName, lastName, bithYear, birthCountry)\", \n",
        "         \"Teams(year, teamID, name, games, wins, losses)\",\n",
        "         \"Scoring(playerID, year, teamID, gamesPlayed, goals, assists)\"]\n"
      ],
      "metadata": {
        "id": "Tsu1yKtuK_VJ"
      },
      "execution_count": null,
      "outputs": []
    },
    {
      "cell_type": "markdown",
      "source": [
        "**Section 4 - Defining \"Build_Query\" Function**\n",
        "\n",
        "This section is optional for you to review. It constructs the OpenAI request and gets back the results - SQL Query.\n",
        "\n",
        "You can click on *Show Code* link below to see the implementation"
      ],
      "metadata": {
        "id": "W-ImQWsB8zQa"
      }
    },
    {
      "cell_type": "code",
      "source": [
        "#@title Implementation\n",
        "\n",
        "def build_query(secret_key, model, question):\n",
        "\n",
        "  openai.api_key = secret_key\n",
        "   \n",
        "  request=\"### Postgres SQL tables, with their properties:\\n#\"\n",
        "  for i in model:\n",
        "    request=request+\"\\n# \"+i\n",
        "  request=request+\"\\n### \"+question\n",
        "  request=request+\"\\nSELECT\"\n",
        "\n",
        "  #print(request)\n",
        "\n",
        "  response = openai.Completion.create(\n",
        "    model=\"code-davinci-002\",\n",
        "    prompt=request,\n",
        "    temperature=0,\n",
        "    max_tokens=150,\n",
        "    top_p=1,\n",
        "    frequency_penalty=0,\n",
        "    presence_penalty=0,\n",
        "    stop=[\"#\", \";\"]\n",
        "  )\n",
        "  \n",
        "  return \"SELECT \"+response.choices[0][\"text\"]\n",
        "\n"
      ],
      "metadata": {
        "id": "oKeVAliBL0Ft",
        "cellView": "form"
      },
      "execution_count": null,
      "outputs": []
    },
    {
      "cell_type": "markdown",
      "source": [
        "**Experiment 1**\n",
        "\n",
        "Now we are getting to the interesting part!!!\n",
        "\n",
        "Let's specify a request below in English and see how it is translated to SQL. The question for the NLP engine is this:\n",
        "\n",
        "`\"A query to find the highest scoring player\"`"
      ],
      "metadata": {
        "id": "wBOcmjihxOZN"
      }
    },
    {
      "cell_type": "code",
      "source": [
        "question=\"A query to find the highest scoring player\"\n",
        "\n",
        "query = build_query(secret_key, model, question)\n",
        "print(query)"
      ],
      "metadata": {
        "colab": {
          "base_uri": "https://localhost:8080/"
        },
        "id": "mXwka7Ggwwwz",
        "outputId": "ab7a8478-e758-48dd-a002-953df981cbac"
      },
      "execution_count": null,
      "outputs": [
        {
          "output_type": "stream",
          "name": "stdout",
          "text": [
            "SELECT  firstName, lastName, goals, assists\n",
            "FROM Players, Scoring\n",
            "WHERE Players.playerID = Scoring.playerID\n",
            "ORDER BY goals DESC, assists DESC\n",
            "LIMIT 1\n"
          ]
        }
      ]
    },
    {
      "cell_type": "markdown",
      "source": [
        "A few observations about the generated query:\n",
        "1. The engine interpreted \"*highest scoring*\" as a combination of \"*goals*\" and \"*assists*\". We never specified \"goals\" and \"assists\" in our question \n",
        "2. It selects the highest scoring player by \"*goals*\" with a tie-breaker of \"*assist*\"\n",
        "3. It selects a strategy of using \"LIMIT 1\" with ordering for a simple implementation of \"highest\" \n",
        "\n",
        "This is very impressive!!\n",
        "\n",
        "Now let's execute this SQL against a NuODB Hockey database. Here, the output:\n",
        "```\n",
        " FIRSTNAME  LASTNAME  GOALS  ASSISTS  \n",
        " ---------- --------- ------ -------- \n",
        "\n",
        "   Wayne     Gretzky    92     120\n",
        "```\n",
        "\n"
      ],
      "metadata": {
        "id": "BYOU6a-Y_Ikv"
      }
    },
    {
      "cell_type": "markdown",
      "source": [
        "**Experiment 2**\n",
        "\n",
        "Now let's make the same request a bit more complex. Can the engine incorporate statistical functions? For example a statement like this:\n",
        "```\n",
        "\"A query to list players with highest average goal count\"\n",
        "```\n",
        "\n"
      ],
      "metadata": {
        "id": "Rl5owAKwIm86"
      }
    },
    {
      "cell_type": "code",
      "source": [
        "question=\"A query to list players with highest average goal count\"\n",
        "\n",
        "query = build_query(secret_key, model, question)\n",
        "print(query)"
      ],
      "metadata": {
        "colab": {
          "base_uri": "https://localhost:8080/"
        },
        "id": "TabWwM09IuBW",
        "outputId": "04eddc34-ba63-4a6d-853d-c1952f8f5249"
      },
      "execution_count": null,
      "outputs": [
        {
          "output_type": "stream",
          "name": "stdout",
          "text": [
            "SELECT  firstName, lastName, AVG(goals) AS avg_goals\n",
            "FROM Players\n",
            "JOIN Scoring ON Players.playerID = Scoring.playerID\n",
            "GROUP BY firstName, lastName\n",
            "ORDER BY avg_goals DESC\n",
            "LIMIT 10\n"
          ]
        }
      ]
    },
    {
      "cell_type": "markdown",
      "source": [
        "\n",
        "\n",
        "\n",
        "\n",
        "\n",
        "Executing this query results in the folowing output:\n",
        "```\n",
        " FIRSTNAME  LASTNAME      AVG_GOALS     \n",
        " ---------- --------- ----------------- \n",
        "\n",
        "   Mike     Bossy     57.3              \n",
        "   Alex     Ovechkin  48.42857142857143 \n",
        "   Steven   Stamkos   44.75             \n",
        "   Wayne    Gretzky   40.8695652173913  \n",
        "   Mario    Lemieux   40.58823529411764 \n",
        "   Real     Cloutier  39                \n",
        "   Marcel   Dionne    38.47368421052632 \n",
        "   Bobby    Hull      38.04166666666666 \n",
        "   Phil     Esposito  37.73684210526316 \n",
        "   Anders   Hedberg   37.09090909090909 \n",
        "```\n",
        "\n",
        "\n"
      ],
      "metadata": {
        "id": "DTir4drXMUvK"
      }
    },
    {
      "cell_type": "markdown",
      "source": [
        "**Experiment 3**\n",
        "\n",
        "The queries we tried above are similar to each other. Let's try something different that should touch all 3 tables:\n",
        "```\n",
        "\"A query to list countries of birth, team names, last names and score year for highest scorers per year for each year after 1990\"\n",
        "```\n",
        "\n",
        "\n"
      ],
      "metadata": {
        "id": "X-JsWtyEMw1X"
      }
    },
    {
      "cell_type": "code",
      "source": [
        "question=\"A query to list countries of birth, team names, last names and score year for highest scorers per year for each year after 1990\"\n",
        "\n",
        "query = build_query(secret_key, model, question)\n",
        "print(query)"
      ],
      "metadata": {
        "colab": {
          "base_uri": "https://localhost:8080/"
        },
        "id": "8uhaPWwpM0cr",
        "outputId": "ff1cedb9-4130-4c85-8585-d9a4c5c53095"
      },
      "execution_count": null,
      "outputs": [
        {
          "output_type": "stream",
          "name": "stdout",
          "text": [
            "SELECT  birthCountry, name, lastName, year\n",
            "FROM Players, Teams, Scoring\n",
            "WHERE Players.playerID = Scoring.playerID\n",
            "AND Teams.teamID = Scoring.teamID\n",
            "AND Teams.year = Scoring.year\n",
            "AND Scoring.year > 1990\n",
            "AND Scoring.goals + Scoring.assists = (SELECT MAX(goals + assists)\n",
            "                                       FROM Scoring\n",
            "                                       WHERE Scoring.year = Teams.year)\n",
            "ORDER BY year\n"
          ]
        }
      ]
    },
    {
      "cell_type": "markdown",
      "source": [
        "In this case OpenAI forgets to qualify a \"year\" qualifier in SELECT row. But other than than that the query looks and performs corrrectly. Here's the output:\n",
        "\n",
        "```\n",
        "  BIRTHCOUNTRY         NAME         LASTNAME  YEAR  \n",
        " -------------- ------------------- --------- ----- \n",
        "\n",
        " Canada         Pittsburgh Penguins Lemieux   1991  \n",
        " Canada         Pittsburgh Penguins Lemieux   1992  \n",
        " Canada         Los Angeles Kings   Gretzky   1993  \n",
        " Canada         Philadelphia Flyers Lindros   1994  \n",
        " Czech Republic Pittsburgh Penguins Jagr      1994  \n",
        " Canada         Pittsburgh Penguins Lemieux   1995  \n",
        " Canada         Pittsburgh Penguins Lemieux   1996  \n",
        " Czech Republic Pittsburgh Penguins Jagr      1997  \n",
        " Czech Republic Pittsburgh Penguins Jagr      1998  \n",
        " Czech Republic Pittsburgh Penguins Jagr      1999  \n",
        " Czech Republic Pittsburgh Penguins Jagr      2000  \n",
        " Canada         Calgary Flames      Iginla    2001  \n",
        " Sweden         Colorado Avalanche  Forsberg  2002  \n",
        " Canada         Tampa Bay Lightning St. Louis 2003  \n",
        " Czech Republic New York Rangers    Jagr      2005  \n",
        " Canada         Pittsburgh Penguins Crosby    2006  \n",
        " Russia         Washington Capitals Ovechkin  2007  \n",
        " Russia         Pittsburgh Penguins Malkin    2008  \n",
        " Sweden         Vancouver Canucks   Sedin     2009  \n",
        " Sweden         Vancouver Canucks   Sedin     2010  \n",
        " Russia         Pittsburgh Penguins Malkin    2011 \n",
        "```\n",
        "\n"
      ],
      "metadata": {
        "id": "kG_kCJAvNF6C"
      }
    },
    {
      "cell_type": "markdown",
      "source": [
        "**Conclusion**\n",
        "\n",
        "The GPT-3 engine performance is amazing. Not only it can reason about concepts in questions and model, but it can also construct complex SQL statements with different access strategies.\n",
        "\n",
        "I have to confess that the examples above are the most interesting ones that I have tried. Sometime the engine misinterprets the text, sometime the SQL is not perfect and needs to be touched up. And sometime generated queries look good but don't do what have been asked.\n",
        "\n",
        "Nevertheless, this is a giant step forward on the journey where we can clearly see that AI is here, it is incredibly powerful, and it will disrupt our SQL industry.\n"
      ],
      "metadata": {
        "id": "Q_UK08sg0ssK"
      }
    }
  ]
}